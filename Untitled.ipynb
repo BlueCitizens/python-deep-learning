{
 "cells": [
  {
   "cell_type": "markdown",
   "metadata": {},
   "source": [
    "# 4.4 如何快速得近似任何函数\n",
    "This chapter uses neuralpy module, which is lastly supported by python 2.7 according to [pypy page](https://pypi.org/project/neuralpy/).\n",
    "\n",
    "I got too many errors that blocking me to use this module even under py27, so I gave up on this section.\n",
    "\n",
    "I mostly use python 3.5 as default version to code for these examples"
   ]
  },
  {
   "cell_type": "code",
   "execution_count": 1,
   "metadata": {
    "collapsed": true
   },
   "outputs": [],
   "source": [
    "import numpy as np\n",
    "import pandas as pd\n",
    "import random"
   ]
  },
  {
   "cell_type": "code",
   "execution_count": 2,
   "metadata": {},
   "outputs": [
    {
     "name": "stdout",
     "output_type": "stream",
     "text": [
      "count    50.000000\n",
      "mean     -0.020466\n",
      "std       0.555657\n",
      "min      -0.947200\n",
      "25%      -0.444625\n",
      "50%      -0.020600\n",
      "75%       0.451775\n",
      "max       0.993400\n",
      "dtype: float64\n",
      "<class 'pandas.core.series.Series'>\n",
      "[([0.4703], [0.22118209]), ([0.8105], [0.65691025000000003]), ([-0.1595], [0.025440250000000001]), ([-0.73150000000000004], [0.53509225000000005]), ([-0.027799999999999998], [0.0007728399999999999]), ([-0.58309999999999995], [0.34000560999999996]), ([-0.76529999999999998], [0.58568408999999999]), ([0.59499999999999997], [0.35402499999999998]), ([0.55000000000000004], [0.30250000000000005]), ([-0.68959999999999999], [0.47554816]), ([-0.019400000000000001], [0.00037636000000000001]), ([-0.55910000000000004], [0.31259281000000005]), ([-0.49220000000000003], [0.24226084000000003]), ([0.054399999999999997], [0.0029593599999999999]), ([-0.30909999999999999], [0.095542809999999992]), ([0.1497], [0.022410090000000001]), ([-0.3175], [0.10080625]), ([-0.21679999999999999], [0.047002239999999994]), ([-0.44779999999999998], [0.20052483999999998]), ([0.62539999999999996], [0.39112515999999997]), ([0.48420000000000002], [0.23444964000000001]), ([0.031399999999999997], [0.00098595999999999992]), ([0.84089999999999998], [0.70711280999999993]), ([-0.20399999999999999], [0.041615999999999993]), ([-0.1241], [0.015400810000000001]), ([0.99339999999999995], [0.98684355999999995]), ([-0.88919999999999999], [0.79067663999999993]), ([-0.0218], [0.00047523999999999998]), ([0.86160000000000003], [0.74235456000000011]), ([-0.35270000000000001], [0.12439729000000001]), ([0.3962], [0.15697443999999999]), ([0.040300000000000002], [0.0016240900000000001]), ([-0.94720000000000004], [0.89718784000000007]), ([0.2336], [0.05456896]), ([-0.76180000000000003], [0.58033924000000003]), ([-0.0126], [0.00015876]), ([0.4728], [0.22353983999999999]), ([-0.6825], [0.46580624999999998]), ([-0.43509999999999999], [0.18931200999999998]), ([0.73640000000000005], [0.54228496000000004]), ([0.91300000000000003], [0.83356900000000012]), ([-0.89680000000000004], [0.80425024000000012]), ([0.24210000000000001], [0.058612410000000004]), ([0.91100000000000003], [0.82992100000000002]), ([-0.34289999999999998], [0.11758040999999998]), ([0.1507], [0.02271049]), ([-0.24099999999999999], [0.058080999999999994]), ([0.17019999999999999], [0.028968039999999997]), ([-0.80569999999999997], [0.64915248999999997]), ([0.2797], [0.078232090000000004])]\n"
     ]
    }
   ],
   "source": [
    "random.seed(2016)\n",
    "sample_size=50\n",
    "sample = pd.Series(random.sample(range(-10000, 10000), sample_size))\n",
    "x = sample/10000\n",
    "y = x ** 2\n",
    "print(x.describe())\n",
    "\n",
    "# Type of pandas-Series\n",
    "print(type(sample))\n",
    "\n",
    "count = 0\n",
    "dataset = [([x.at[count]], [y.at[count]])]\n",
    "count = 1\n",
    "while (count < sample_size):\n",
    "    # print(\"Working on data item:\" + str(count))\n",
    "\n",
    "    # ix has been removed from pandas package, try iloc / loc / at\n",
    "    # dataset = (dataset + [([x.ix[count, 0]], [y.at[count]])])\n",
    "    dataset = (dataset + [([x.iloc[count]], [y.iloc[count]])])\n",
    "    \n",
    "    count = count + 1\n",
    "    \n",
    "print(dataset)"
   ]
  },
  {
   "cell_type": "markdown",
   "metadata": {},
   "source": [
    "# 5.x 如何构建可定制的深度预测模型\n",
    "This chapter uses scikit-neuralnetwork module, which is not included in anaconda by default, so at least you have to install it by yourself. Using the command line below:\n",
    "\n",
    "```\n",
    "pip install scikit-neuralnetwork\n",
    "```"
   ]
  },
  {
   "cell_type": "code",
   "execution_count": 3,
   "metadata": {},
   "outputs": [
    {
     "name": "stdout",
     "output_type": "stream",
     "text": [
      "[[  6.32000000e-03   1.80000000e+01   2.31000000e+00 ...,   1.53000000e+01\n",
      "    3.96900000e+02   4.98000000e+00]\n",
      " [  2.73100000e-02   0.00000000e+00   7.07000000e+00 ...,   1.78000000e+01\n",
      "    3.96900000e+02   9.14000000e+00]\n",
      " [  2.72900000e-02   0.00000000e+00   7.07000000e+00 ...,   1.78000000e+01\n",
      "    3.92830000e+02   4.03000000e+00]\n",
      " ..., \n",
      " [  6.07600000e-02   0.00000000e+00   1.19300000e+01 ...,   2.10000000e+01\n",
      "    3.96900000e+02   5.64000000e+00]\n",
      " [  1.09590000e-01   0.00000000e+00   1.19300000e+01 ...,   2.10000000e+01\n",
      "    3.93450000e+02   6.48000000e+00]\n",
      " [  4.74100000e-02   0.00000000e+00   1.19300000e+01 ...,   2.10000000e+01\n",
      "    3.96900000e+02   7.88000000e+00]]\n"
     ]
    }
   ],
   "source": [
    "from sklearn import datasets\n",
    "\n",
    "boston = datasets.load_boston()\n",
    "x, y = boston.data, boston.target\n",
    "\n",
    "print(x)"
   ]
  },
  {
   "cell_type": "code",
   "execution_count": 4,
   "metadata": {},
   "outputs": [
    {
     "name": "stdout",
     "output_type": "stream",
     "text": [
      "[ 0.02222222]\n"
     ]
    }
   ],
   "source": [
    "from sklearn import preprocessing\n",
    "\n",
    "x_MinMax = preprocessing.MinMaxScaler()\n",
    "y_MinMax = preprocessing .MinMaxScaler()\n",
    "\n",
    "# print(x)\n",
    "\n",
    "# turn array into a x * y matrix as you can leave 1 arguments unknown(i.e. -1) at most for creating it\n",
    "# if you want to create a matrix of 5 rows and don't know how many columns there are,\n",
    "# input 5 for args$1 and leave args$2 -1\n",
    "\n",
    "y = np.array(y).reshape((len(y), 1))\n",
    "# it's the same above and below\n",
    "y1 = np.array(y).reshape(-1,1)\n",
    "# print(y1)\n",
    "\n",
    "x = x_MinMax.fit_transform(x)\n",
    "y = y_MinMax.fit_transform(y)\n",
    "\n",
    "x.mean(axis = 0)\n",
    "# print(x)\n",
    "\n",
    "print(y_MinMax.scale_)"
   ]
  },
  {
   "cell_type": "code",
   "execution_count": 5,
   "metadata": {},
   "outputs": [
    {
     "name": "stdout",
     "output_type": "stream",
     "text": [
      "102\n",
      "[[ 0.39333333]\n",
      " [ 0.26222222]\n",
      " [ 0.41111111]\n",
      " [ 0.28      ]\n",
      " [ 0.38666667]\n",
      " [ 0.21777778]\n",
      " [ 0.5       ]\n",
      " [ 0.38666667]\n",
      " [ 0.36      ]\n",
      " [ 0.33333333]\n",
      " [ 0.40444444]\n",
      " [ 0.32222222]\n",
      " [ 0.39333333]\n",
      " [ 0.44444444]\n",
      " [ 0.24666667]\n",
      " [ 0.69777778]\n",
      " [ 0.66444444]\n",
      " [ 0.29333333]\n",
      " [ 0.07333333]\n",
      " [ 0.        ]\n",
      " [ 0.24666667]\n",
      " [ 0.43111111]\n",
      " [ 1.        ]\n",
      " [ 0.04888889]\n",
      " [ 0.52      ]\n",
      " [ 0.66      ]\n",
      " [ 0.29777778]\n",
      " [ 0.39555556]\n",
      " [ 0.41555556]\n",
      " [ 0.21111111]\n",
      " [ 0.32888889]\n",
      " [ 0.        ]\n",
      " [ 0.12      ]\n",
      " [ 0.35333333]\n",
      " [ 0.36666667]\n",
      " [ 0.19555556]\n",
      " [ 0.20888889]\n",
      " [ 0.18      ]\n",
      " [ 0.28444444]\n",
      " [ 0.22222222]\n",
      " [ 0.18      ]\n",
      " [ 0.42      ]\n",
      " [ 0.39555556]\n",
      " [ 0.38444444]\n",
      " [ 0.62888889]\n",
      " [ 0.18444444]\n",
      " [ 0.15333333]\n",
      " [ 0.4       ]\n",
      " [ 0.35111111]\n",
      " [ 0.34      ]\n",
      " [ 0.33777778]\n",
      " [ 0.42222222]\n",
      " [ 0.07555556]\n",
      " [ 1.        ]\n",
      " [ 0.31777778]\n",
      " [ 0.14888889]\n",
      " [ 0.91111111]\n",
      " [ 0.28888889]\n",
      " [ 0.41777778]\n",
      " [ 0.16222222]\n",
      " [ 0.30888889]\n",
      " [ 0.57777778]\n",
      " [ 0.82888889]\n",
      " [ 0.60444444]\n",
      " [ 0.14888889]\n",
      " [ 0.25555556]\n",
      " [ 0.5       ]\n",
      " [ 0.31111111]\n",
      " [ 0.02888889]\n",
      " [ 0.54666667]\n",
      " [ 0.43555556]\n",
      " [ 0.48222222]\n",
      " [ 0.11555556]\n",
      " [ 0.37111111]\n",
      " [ 0.08444444]\n",
      " [ 0.67555556]\n",
      " [ 0.40666667]\n",
      " [ 0.47555556]\n",
      " [ 0.41777778]\n",
      " [ 0.32      ]\n",
      " [ 0.40222222]\n",
      " [ 0.62444444]\n",
      " [ 0.59111111]\n",
      " [ 0.84666667]\n",
      " [ 0.18666667]\n",
      " [ 0.39777778]\n",
      " [ 0.50888889]\n",
      " [ 0.34444444]\n",
      " [ 1.        ]\n",
      " [ 0.15333333]\n",
      " [ 0.84      ]\n",
      " [ 0.27555556]\n",
      " [ 0.18888889]\n",
      " [ 0.37111111]\n",
      " [ 0.33111111]\n",
      " [ 0.10444444]\n",
      " [ 0.52666667]\n",
      " [ 0.44444444]\n",
      " [ 0.81555556]\n",
      " [ 0.42888889]\n",
      " [ 0.22222222]\n",
      " [ 0.12222222]]\n"
     ]
    }
   ],
   "source": [
    "# from sklearn.cross_validation import train_test_split\n",
    "# sklearn has abandoned package cross_validation and replace it by model_selection\n",
    "from sklearn.model_selection import train_test_split\n",
    "\n",
    "np.random.seed(2016)\n",
    "x_train, x_test, y_train, y_test = train_test_split(x, y, test_size = 0.2)\n",
    "\n",
    "# print(len(x_train))\n",
    "print(len(y_test))\n",
    "\n",
    "print(y_test)"
   ]
  },
  {
   "cell_type": "code",
   "execution_count": 6,
   "metadata": {},
   "outputs": [
    {
     "name": "stderr",
     "output_type": "stream",
     "text": [
      "WARNING (theano.configdefaults): g++ not available, if using conda: `conda install m2w64-toolchain`\n",
      "C:\\Users\\BlueCitizen\\anaconda3\\envs\\practice_env_0\\lib\\site-packages\\theano\\configdefaults.py:560: UserWarning: DeprecationWarning: there is no c++ compiler.This is deprecated and with Theano 0.11 a c++ compiler will be mandatory\n",
      "  warnings.warn(\"DeprecationWarning: there is no c++ compiler.\"\n",
      "WARNING (theano.configdefaults): g++ not detected ! Theano will be unable to execute optimized C-implementations (for both CPU and GPU) and will default to Python implementations. Performance will be severely degraded. To remove this warning, set Theano flags cxx to an empty string.\n",
      "WARNING (theano.configdefaults): install mkl with `conda install mkl-service`: No module named 'mkl'\n",
      "WARNING (theano.tensor.blas): Using NumPy C-API based implementation for BLAS functions.\n",
      "C:\\Users\\BlueCitizen\\anaconda3\\envs\\practice_env_0\\lib\\site-packages\\sklearn\\cross_validation.py:41: DeprecationWarning: This module was deprecated in version 0.18 in favor of the model_selection module into which all the refactored classes and functions are moved. Also note that the interface of the new CV iterators are different from that of this module. This module will be removed in 0.20.\n",
      "  \"This module will be removed in 0.20.\", DeprecationWarning)\n"
     ]
    },
    {
     "name": "stdout",
     "output_type": "stream",
     "text": [
      "fitting model right now\n"
     ]
    },
    {
     "data": {
      "text/plain": [
       "Regressor(batch_size=1, callback=None, debug=False, dropout_rate=None,\n",
       "     f_stable=0.001,\n",
       "     hidden0=<sknn.nn.Layer `Sigmoid`: units=6, frozen=False, name='hidden0'>,\n",
       "     hidden1=<sknn.nn.Layer `Sigmoid`: units=14, frozen=False, name='hidden1'>,\n",
       "     layers=[<sknn.nn.Layer `Sigmoid`: units=6, frozen=False, name='hidden0'>, <sknn.nn.Layer `Sigmoid`: units=14, frozen=False, name='hidden1'>, <sknn.nn.Layer `Linear`: units=1, frozen=False, name='output'>],\n",
       "     learning_momentum=0.9, learning_rate=0.02, learning_rule='sgd',\n",
       "     loss_type=None, n_iter=10, n_stable=10, normalize=None,\n",
       "     output=<sknn.nn.Layer `Linear`: units=1, frozen=False, name='output'>,\n",
       "     parameters=None, random_state=2016, regularize=None, valid_set=None,\n",
       "     valid_size=0.0, verbose=None, warning=None, weight_decay=None)"
      ]
     },
     "execution_count": 6,
     "metadata": {},
     "output_type": "execute_result"
    }
   ],
   "source": [
    "# running on higher version of python, you should have encounter a common error\n",
    "# ModuleNotFoundError: No module named 'sklearn.cross_validation'\n",
    "# somehow the mlp.py is not updated by maintainer that the import is not valid\n",
    "# go to where you install anaconda ~/anaconda3/Lib/sites-packages/sknn/mlp.py\n",
    "# edit import from sklearn.cross_validation to sklearn.model_selection\n",
    "from sknn.mlp import Regressor, Layer\n",
    "\n",
    "fit1 = Regressor (\n",
    "    layers = [\n",
    "        # 1st hidden layer\n",
    "        Layer(\"Sigmoid\", units = 6),\n",
    "        # 2nd hidden layer\n",
    "        Layer(\"Sigmoid\", units = 14),\n",
    "        # output layer\n",
    "        Layer(\"Linear\")\n",
    "    ],\n",
    "    learning_rate = 0.02,\n",
    "    random_state = 2016,\n",
    "    n_iter = 10\n",
    ")\n",
    "\n",
    "print(\"fitting model right now\")\n",
    "# you might encounter an error says '... from theano.tensor.signal import downsample'\n",
    "# ImportError: cannot import name 'downsample'\n",
    "# go to ~/anaconda3/envs/practice_env_0/Lib/site-packages/lasagne/layers/pool.py\n",
    "# module 'downsample' has been changed to 'pool' so you have to update it yourself\n",
    "# - from theano.tensor.signal import downsample\n",
    "# + from theano.tensor.signal import pool\n",
    "fit1.fit(x_train, y_train)"
   ]
  },
  {
   "cell_type": "code",
   "execution_count": 7,
   "metadata": {},
   "outputs": [
    {
     "name": "stdout",
     "output_type": "stream",
     "text": [
      "0.0276014313174\n"
     ]
    }
   ],
   "source": [
    "# print(fit1.get_parameters())\n",
    "pred1_train = fit1.predict(x_train)\n",
    "\n",
    "from sklearn.metrics import mean_squared_error\n",
    "\n",
    "mse_1 = mean_squared_error(pred1_train, y_train)\n",
    "print(\"Train ERROR = \", mse_1)"
   ]
  },
  {
   "cell_type": "code",
   "execution_count": 8,
   "id": "b50af3eb",
   "metadata": {},
   "outputs": [
    {
     "name": "stdout",
     "output_type": "stream",
     "text": [
      "fitting model right now\n",
      "Train ERROR =  0.00974044111856\n"
     ]
    }
   ],
   "source": [
    "fit2 = Regressor(\n",
    "    layers = [\n",
    "    Layer(\"Rectifier\", units = 6),\n",
    "    Layer(\"Rectifier\", units = 14),\n",
    "    Layer(\"Linear\")],\n",
    "    learning_rate = 0.02,\n",
    "    random_state = 2016,\n",
    "    n_iter = 10\n",
    ")\n",
    "\n",
    "print(\"fitting model right now\")\n",
    "fit2.fit(x_train, y_train)\n",
    "pred2_train = fit2.predict(x_train)\n",
    "\n",
    "mse_2 = mean_squared_error(pred2_train, y_train)\n",
    "print(\"Train ERROR = \", mse_2)"
   ]
  },
  {
   "cell_type": "code",
   "execution_count": 9,
   "id": "48818f70",
   "metadata": {},
   "outputs": [
    {
     "name": "stdout",
     "output_type": "stream",
     "text": [
      "fitting model right now\n",
      "Train ERROR =  0.00583105752773\n"
     ]
    }
   ],
   "source": [
    "# set iter for 100 times\n",
    "fit3 = Regressor(\n",
    "    layers = [\n",
    "    Layer(\"Rectifier\", units = 6),\n",
    "    Layer(\"Rectifier\", units = 14),\n",
    "    Layer(\"Linear\")],\n",
    "    learning_rate = 0.02,\n",
    "    random_state = 2016,\n",
    "    n_iter = 100\n",
    ")\n",
    "\n",
    "print(\"fitting model right now\")\n",
    "fit3.fit(x_train, y_train)\n",
    "pred2_train = fit3.predict(x_train)\n",
    "\n",
    "mse_2 = mean_squared_error(pred2_train, y_train)\n",
    "print(\"Train ERROR = \", mse_2)"
   ]
  }
 ],
 "metadata": {
  "kernelspec": {
   "display_name": "Python 3",
   "language": "python",
   "name": "python3"
  },
  "language_info": {
   "codemirror_mode": {
    "name": "ipython",
    "version": 3
   },
   "file_extension": ".py",
   "mimetype": "text/x-python",
   "name": "python",
   "nbconvert_exporter": "python",
   "pygments_lexer": "ipython3",
   "version": "3.5.4"
  }
 },
 "nbformat": 4,
 "nbformat_minor": 5
}
